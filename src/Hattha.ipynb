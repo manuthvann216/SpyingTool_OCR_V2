{
 "cells": [
  {
   "cell_type": "code",
   "execution_count": 2,
   "metadata": {},
   "outputs": [],
   "source": [
    "trs = [['≥\\xa0', '3 ', 'months', '3.85%', '4.00%'],\n",
    "       ['≥\\xa0', '6 ', 'months', '6.75%', '5.75%'],\n",
    "       ['≥\\xa0', '9 ', 'months', '7.00%', '6.00%'],\n",
    "       ['≥\\xa0', '12 ', 'months', '8.00%', '8.00%'],\n",
    "       ['≥\\xa0', '18 ', 'months', '8.10%', '8.10%'],\n",
    "       ['≥\\xa0', '24 ', 'months', '8.20%', '8.20%'],\n",
    "       ['≥\\xa0', '36 ', 'months', '8.40%', '8.30%'],\n",
    "       ['≥\\xa0', '48 months', '8.60%', '8.40%'],\n",
    "       ['60 months', '8.88%', '8.50%']]\n"
   ]
  },
  {
   "cell_type": "code",
   "execution_count": 3,
   "metadata": {},
   "outputs": [
    {
     "data": {
      "text/plain": [
       "9"
      ]
     },
     "execution_count": 3,
     "metadata": {},
     "output_type": "execute_result"
    }
   ],
   "source": [
    "len(trs)"
   ]
  },
  {
   "cell_type": "code",
   "execution_count": 7,
   "metadata": {},
   "outputs": [
    {
     "name": "stdout",
     "output_type": "stream",
     "text": [
      "['', '3 ', 'months', '3.85%', '4.00%']\n",
      "['', '6 ', 'months', '6.75%', '5.75%']\n",
      "['', '9 ', 'months', '7.00%', '6.00%']\n",
      "['', '12 ', 'months', '8.00%', '8.00%']\n",
      "['', '18 ', 'months', '8.10%', '8.10%']\n",
      "['', '24 ', 'months', '8.20%', '8.20%']\n",
      "['', '36 ', 'months', '8.40%', '8.30%']\n",
      "['', '48 months', '8.60%', '8.40%']\n",
      "['60 months', '8.88%', '8.50%']\n"
     ]
    }
   ],
   "source": [
    "data = []\n",
    "for i in range(len(trs)):\n",
    "    cleaned_data = [item.replace('≥\\xa0', '') for item in trs[i]]\n",
    "    data.append(cleaned_data)\n",
    "    print(data[i])\n"
   ]
  },
  {
   "cell_type": "code",
   "execution_count": null,
   "metadata": {},
   "outputs": [],
   "source": []
  }
 ],
 "metadata": {
  "kernelspec": {
   "display_name": "venv",
   "language": "python",
   "name": "python3"
  },
  "language_info": {
   "codemirror_mode": {
    "name": "ipython",
    "version": 3
   },
   "file_extension": ".py",
   "mimetype": "text/x-python",
   "name": "python",
   "nbconvert_exporter": "python",
   "pygments_lexer": "ipython3",
   "version": "3.9.13"
  }
 },
 "nbformat": 4,
 "nbformat_minor": 2
}
